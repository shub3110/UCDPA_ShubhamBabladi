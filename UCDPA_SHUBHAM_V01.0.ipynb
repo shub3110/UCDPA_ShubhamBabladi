{
 "cells": [
  {
   "cell_type": "code",
   "execution_count": 1,
   "id": "41b1c35d",
   "metadata": {},
   "outputs": [],
   "source": [
    "import pandas as pd\n",
    "import matplotlib.pyplot as plt\n",
    "import seaborn as sns\n",
    "import math\n",
    "import numpy as np \n",
    "import datetime"
   ]
  },
  {
   "cell_type": "code",
   "execution_count": 2,
   "id": "b276a432",
   "metadata": {},
   "outputs": [
    {
     "name": "stdout",
     "output_type": "stream",
     "text": [
      "                                                  Name                 Author  \\\n",
      "0    Act Like a Lady, Think Like a Man: What Men Re...           Steve Harvey   \n",
      "1    Arguing with Idiots: How to Stop Small Minds a...             Glenn Beck   \n",
      "2            Breaking Dawn (The Twilight Saga, Book 4)        Stephenie Meyer   \n",
      "3          Crazy Love: Overwhelmed by a Relentless God           Francis Chan   \n",
      "4    Dead And Gone: A Sookie Stackhouse Novel (Sook...       Charlaine Harris   \n",
      "..                                                 ...                    ...   \n",
      "695                   The Wonderful Things You Will Be  Emily Winfield Martin   \n",
      "696                                 Ugly Love: A Novel         Colleen Hoover   \n",
      "697                                             Verity         Colleen Hoover   \n",
      "698               What to Expect When You're Expecting          Heidi Murkoff   \n",
      "699                            Where the Crawdads Sing            Delia Owens   \n",
      "\n",
      "     User Rating  Reviews  Price  Year        Genre  \n",
      "0            4.6     5013     17  2009  Non Fiction  \n",
      "1            4.6      798      5  2009  Non Fiction  \n",
      "2            4.6     9769     13  2009      Fiction  \n",
      "3            4.7     1542     14  2009  Non Fiction  \n",
      "4            4.6     1541      4  2009      Fiction  \n",
      "..           ...      ...    ...   ...          ...  \n",
      "695          4.9    20920      9  2022      Fiction  \n",
      "696          4.7    33929     10  2022      Fiction  \n",
      "697          4.6    71826     11  2022      Fiction  \n",
      "698          4.8    27052     13  2022  Non Fiction  \n",
      "699          4.8   208917     10  2022      Fiction  \n",
      "\n",
      "[700 rows x 7 columns]\n"
     ]
    }
   ],
   "source": [
    "# To read the data from csv and load it into data frame\n",
    "df = pd.read_csv ('C:\\\\Users\\\\shubh\\\\Desktop\\\\UCD\\\\Project\\\\Data Set\\\\bestsellers_with_categories_2022_03_27.csv')\n",
    "print(df)"
   ]
  },
  {
   "cell_type": "code",
   "execution_count": 3,
   "id": "91897f37",
   "metadata": {},
   "outputs": [
    {
     "name": "stdout",
     "output_type": "stream",
     "text": [
      "                                                  Name                 Author  \\\n",
      "0    Act Like a Lady, Think Like a Man: What Men Re...           Steve Harvey   \n",
      "1    Arguing with Idiots: How to Stop Small Minds a...             Glenn Beck   \n",
      "2            Breaking Dawn (The Twilight Saga, Book 4)        Stephenie Meyer   \n",
      "3          Crazy Love: Overwhelmed by a Relentless God           Francis Chan   \n",
      "4    Dead And Gone: A Sookie Stackhouse Novel (Sook...       Charlaine Harris   \n",
      "..                                                 ...                    ...   \n",
      "695                   The Wonderful Things You Will Be  Emily Winfield Martin   \n",
      "696                                 Ugly Love: A Novel         Colleen Hoover   \n",
      "697                                             Verity         Colleen Hoover   \n",
      "698               What to Expect When You're Expecting          Heidi Murkoff   \n",
      "699                            Where the Crawdads Sing            Delia Owens   \n",
      "\n",
      "     User Rating  Reviews  Price  Year        Genre  \n",
      "0            4.6     5013     17  2009  Non Fiction  \n",
      "1            4.6      798      5  2009  Non Fiction  \n",
      "2            4.6     9769     13  2009      Fiction  \n",
      "3            4.7     1542     14  2009  Non Fiction  \n",
      "4            4.6     1541      4  2009      Fiction  \n",
      "..           ...      ...    ...   ...          ...  \n",
      "695          4.9    20920      9  2022      Fiction  \n",
      "696          4.7    33929     10  2022      Fiction  \n",
      "697          4.6    71826     11  2022      Fiction  \n",
      "698          4.8    27052     13  2022  Non Fiction  \n",
      "699          4.8   208917     10  2022      Fiction  \n",
      "\n",
      "[700 rows x 7 columns]\n"
     ]
    }
   ],
   "source": [
    "# Fill null values(NaN) with blank\n",
    "df = df.fillna(0)\n",
    "print(df)"
   ]
  },
  {
   "cell_type": "code",
   "execution_count": 4,
   "id": "a8d11080",
   "metadata": {},
   "outputs": [
    {
     "name": "stdout",
     "output_type": "stream",
     "text": [
      "Fiction : 312\n",
      "Non Fiction : 388\n"
     ]
    }
   ],
   "source": [
    "# Counter for total count of Fictional and Non-Fictional records/books\n",
    "counter_fict = 0\n",
    "counter_nonfict = 0\n",
    "\n",
    "for idx,row in df.iterrows():\n",
    "    #print(row['Genre'])\n",
    "    if row['Genre'] == 'Fiction':\n",
    "        counter_fict = counter_fict + 1\n",
    "    elif row['Genre'] == 'Non Fiction' :\n",
    "        counter_nonfict = counter_nonfict + 1\n",
    "    else:\n",
    "        continue\n",
    "print('Fiction :',counter_fict)\n",
    "print('Non Fiction :',counter_nonfict)\n"
   ]
  },
  {
   "cell_type": "code",
   "execution_count": 5,
   "id": "2b342e75",
   "metadata": {},
   "outputs": [
    {
     "name": "stdout",
     "output_type": "stream",
     "text": [
      "List Values :  [312, 388]\n"
     ]
    }
   ],
   "source": [
    "#Converting the counters into a list to generate a graph\n",
    "#Create Empty List\n",
    "list_genre = []\n",
    "#Append values to empty list\n",
    "list_genre.append(counter_fict)\n",
    "list_genre.append(counter_nonfict)\n",
    "print('List Values : ',list_genre)"
   ]
  },
  {
   "cell_type": "code",
   "execution_count": 6,
   "id": "233ac7c2",
   "metadata": {},
   "outputs": [
    {
     "data": {
      "image/png": "[encoded data removed]",
      "text/plain": [
       "<Figure size 432x288 with 1 Axes>"
      ]
     },
     "metadata": {},
     "output_type": "display_data"
    }
   ],
   "source": [
    "#Generate Pie chart\n",
    "mylabels = [\"Fiction\", \"Non Fiction\"]\n",
    "mycolors = [\"blue\", \"brown\"]\n",
    "\n",
    "plt.pie(list_genre,labels = list_genre, colors = mycolors,  radius = 1.45)\n",
    "plt.legend(title = \"GENRE :\", labels = mylabels, bbox_to_anchor=(1.1, 1.1))\n",
    "plt.show()"
   ]
  },
  {
   "cell_type": "code",
   "execution_count": 7,
   "id": "9b142c64",
   "metadata": {},
   "outputs": [
    {
     "name": "stdout",
     "output_type": "stream",
     "text": [
      "[2009, 2010, 2011, 2012, 2013, 2014, 2015, 2016, 2017, 2018, 2019, 2020, 2021, 2022]\n",
      "[374, 194, 244, 258, 257, 295, 159, 240, 212, 184, 187, 190, 229, 304]\n",
      "[396, 480, 511, 507, 473, 437, 362, 419, 357, 342, 317, 333, 310, 319]\n"
     ]
    }
   ],
   "source": [
    "#Generate multiple bar graph by preparing values yearwise\n",
    "df_multiplebarchart = df.groupby(['Year','Genre']).sum()\n",
    "#print(df_multiplebarchart)\n",
    "\n",
    "#Unique List\n",
    "Years = df['Year'].unique()\n",
    "\n",
    "#Counters set to 0\n",
    "fict_price = 0\n",
    "non_fict_price = 0\n",
    "\n",
    "#Empty list \n",
    "X_val = []\n",
    "Fict_Price_val = []\n",
    "Non_Fict_price_val = []\n",
    "\n",
    "#Loop to sum price of Genres for a specific years from Unique Year List\n",
    "for x in Years:\n",
    "    fict_price = 0\n",
    "    non_fict_price = 0\n",
    "    #print('Year : ',x)\n",
    "    for idx,row in df.iterrows():      \n",
    "        if row['Genre'] == 'Fiction' and row['Year'] == x:\n",
    "            fict_price = fict_price + row['Price']\n",
    "        elif row['Genre'] == 'Non Fiction' and row['Year'] == x:\n",
    "            non_fict_price = non_fict_price + row['Price']\n",
    "        else:\n",
    "            continue\n",
    "    #print('Fiction Price :',fict_price)\n",
    "    #print('Non Fiction Price :',non_fict_price)\n",
    "\n",
    "    #Append the lists with sum of price\n",
    "    X_val.append(x)\n",
    "    Fict_Price_val.append(fict_price)\n",
    "    Non_Fict_price_val.append(non_fict_price)\n",
    "\n",
    "print(X_val)\n",
    "print(Fict_Price_val)\n",
    "print(Non_Fict_price_val)"
   ]
  },
  {
   "cell_type": "code",
   "execution_count": 8,
   "id": "bded566c",
   "metadata": {},
   "outputs": [
    {
     "data": {
      "image/png": "[encoded data removed]",
      "text/plain": [
       "<Figure size 720x360 with 1 Axes>"
      ]
     },
     "metadata": {
      "needs_background": "light"
     },
     "output_type": "display_data"
    }
   ],
   "source": [
    "#Generate Multiple bar graph to represent Yearly Sales \n",
    "fig = plt.figure(figsize=(10, 5))\n",
    "X_axis = np.arange(len(X_val))\n",
    "ax = fig.add_axes([0,0,1,1])  \n",
    "ax.bar(X_axis - 0.2, Fict_Price_val, 0.4, label = 'Fiction')\n",
    "ax.bar(X_axis + 0.2, Non_Fict_price_val, 0.4, label = 'Non Fiction')\n",
    "  \n",
    "plt.xticks(X_axis, X_val)\n",
    "plt.xlabel(\"Year\")\n",
    "plt.ylabel(\"Sales (in $)\")\n",
    "plt.title(\"Yearwise Total Sales for each Genre\")\n",
    "plt.legend()\n",
    "plt.show()"
   ]
  },
  {
   "cell_type": "code",
   "execution_count": 9,
   "id": "e382f31d",
   "metadata": {},
   "outputs": [
    {
     "name": "stdout",
     "output_type": "stream",
     "text": [
      "[4612, 735, 8988, 1450, 1418, 3684, 35, 3054, 648, 823, 5175, 5175, 1256, 1506, 3112, 1853, 1215, 3675, 2809, 5226, 3796, 9592, 7722, 915, 4056, 1425, 1613, 8579, 807, 1488, 2951, 739, 6816, 9292, 8072, 13317, 3787, 4443, 7348, 1589, 18143, 3308, 3083, 3573, 2855, 395, 10976, 5797, 3676, 9569, 424, 413, 579, 424, 21258, 1450, 4477, 1655, 1967, 1519, 2273, 1369, 1070, 368, 3112, 2477, 1203, 24067, 9592, 527, 7722, 1866, 3330, 1190, 4056, 1755, 561, 3269, 11105, 3324, 3030, 388, 2951, 7283, 6816, 9292, 13317, 30195, 8732, 4443, 4326, 1057, 2012, 1108, 1953, 3645, 2855, 2191, 28487, 1094, 1888, 11126, 3818, 4325, 21258, 1450, 4477, 1759, 5712, 5147, 9186, 3112, 14833, 4023, 4876, 19185, 8782, 1386, 24067, 2910, 7722, 1866, 7201, 4056, 561, 1991, 3945, 3269, 8579, 11105, 4356, 1659, 2951, 7283, 13317, 13317, 30195, 16272, 8732, 3738, 5476, 1057, 3233, 4119, 1376, 10152, 5141, 28487, 8063, 2941, 1245, 21258, 5712, 20796, 18236, 35922, 12568, 5147, 45817, 3112, 6898, 14833, 19185, 7944, 8782, 24067, 7446, 21398, 2910, 11710, 7722, 9209, 7201, 4056, 3269, 8579, 2374, 1503, 6186, 47454, 2951, 10223, 10211, 30195, 16272, 8732, 3738, 5998, 1057, 2761, 9932, 12464, 2008, 5995, 10152, 1714, 28487, 6598, 14999, 9684, 4922, 10457, 1276, 4085, 6012, 6540, 24931, 14895, 35922, 5147, 4416, 45817, 6898, 3983, 3351, 4603, 24314, 19185, 4274, 10252, 3306, 6431, 5519, 21398, 11710, 7722, 9209, 7008, 1864, 203, 4056, 20803, 3269, 8579, 21297, 8566, 47454, 2951, 21910, 26399, 10223, 6703, 5289, 1057, 2557, 19156, 6612, 25185, 6598, 20760, 18551, 33441, 2596, 6012, 6279, 24931, 15916, 16284, 3424, 45817, 5495, 23501, 3351, 6152, 19185, 900, 10053, 3306, 6431, 1847, 7642, 17869, 1248, 5099, 21398, 20176, 7722, 3760, 4056, 3269, 33652, 6336, 21297, 7758, 22424, 8566, 47454, 47454, 26399, 10223, 9091, 1057, 19156, 10238, 25185, 2328, 28487, 28487, 8735, 20760, 2691, 2597, 2184, 33441, 14648, 4932, 1757, 10669, 9466, 3862, 3717, 10486, 1964, 5089, 16284, 13477, 10788, 22550, 3351, 23501, 2756, 19185, 4817, 3306, 6431, 17869, 5099, 21398, 5923, 7722, 8805, 4056, 24532, 4442, 7758, 22424, 8566, 21910, 65146, 20377, 37092, 47317, 3291, 19156, 6908, 5799, 10238, 25185, 1761, 20760, 16310, 21941, 2082, 8831, 9466, 3506, 9540, 4476, 10486, 4914, 9864, 4108, 16284, 13477, 5750, 19230, 19179, 9851, 12933, 13663, 23501, 19185, 8560, 6431, 16675, 5099, 4868, 21398, 3293, 7722, 4056, 24532, 4442, 2664, 21910, 65146, 5040, 20377, 7704, 47317, 695, 19156, 6908, 8666, 10238, 25185, 4310, 13228, 20760, 13472, 20139, 18518, 21941, 8812, 14058, 10486, 4691, 16284, 13477, 8484, 3084, 13663, 23501, 15978, 7722, 6431, 2713, 9588, 16675, 2740, 3129, 21398, 1648, 16258, 16311, 7722, 4567, 20734, 4056, 24532, 4442, 21910, 5603, 5040, 25321, 6337, 20377, 9393, 18143, 24371, 5158, 19156, 6908, 8666, 7139, 10238, 4012, 5053, 20760, 13472, 17841, 5625, 4638, 58688, 5283, 10486, 4961, 7091, 5361, 27006, 9864, 5317, 11489, 16284, 13477, 20505, 8484, 3625, 23501, 6509, 2407, 11644, 6645, 23136, 9473, 16675, 21398, 10171, 16311, 7722, 20734, 7490, 22126, 3767, 24532, 11233, 21910, 9550, 6337, 5663, 3241, 6212, 9393, 8765, 24371, 19156, 8666, 28976, 6136, 13472, 7359, 58688, 14058, 15595, 7319, 7091, 12367, 8908, 27006, 13477, 7048, 20505, 9330, 8484, 5257, 7603, 4534, 9348, 15978, 6509, 6780, 5134, 7552, 21398, 10171, 16311, 7490, 22126, 9195, 24532, 11867, 11233, 21910, 12249, 20377, 2525, 24783, 24371, 10857, 8489, 19156, 8666, 28976, 25185, 5837, 5864, 7844, 84328, 9225, 13472, 118687, 61452, 70288, 114017, 38190, 33754, 36786, 29543, 40201, 57401, 18385, 26614, 49084, 22923, 25594, 28706, 17990, 28717, 50165, 61113, 48027, 22987, 23865, 76161, 15454, 67009, 16934, 19375, 37665, 30792, 58081, 59965, 41121, 17054, 42857, 90000, 37901, 71251, 42215, 92290, 24945, 73472, 46315, 65376, 92492, 45980, 28618, 20082, 200559, 34919, 56759, 28920, 7254, 70288, 12014, 38190, 21294, 2816, 36787, 29293, 18366, 49127, 33446, 49084, 19886, 25594, 57607, 28717, 50165, 61112, 71567, 67009, 36664, 34582, 19375, 15513, 24360, 66814, 58081, 11206, 36254, 59965, 66977, 42857, 90000, 71251, 87129, 14098, 66997, 124110, 13992, 56092, 35895, 13885, 58948, 46315, 20502, 21246, 45980, 30706, 25874, 7254, 70287, 38190, 21295, 22786, 13754, 5780, 57607, 50165, 61112, 71569, 1092, 6820, 8987, 2292, 67009, 4812, 16537, 1517, 9780, 3232, 52687, 66814, 4346, 58081, 6391, 36254, 59964, 66977, 42857, 90000, 5136, 71251, 2913, 66997, 34035, 22870, 15470, 124111, 13992, 56092, 58948, 46315, 174, 20502, 31894, 66080, 25970, 200561]\n",
      "[401, 63, 781, 92, 123, 153, 2, 127, 72, 133, 330, 330, 109, 130, 345, 77, 105, 153, 117, 454, 723, 834, 858, 58, 1013, 158, 67, 746, 51, 371, 256, 64, 435, 1267, 515, 554, 241, 185, 1399, 66, 1577, 451, 420, 228, 464, 43, 700, 943, 153, 398, 36, 78, 36, 47, 1356, 92, 389, 269, 170, 132, 252, 186, 145, 40, 345, 275, 264, 2674, 834, 21, 858, 119, 289, 75, 1013, 152, 76, 208, 708, 212, 493, 52, 256, 464, 435, 1267, 554, 1927, 557, 185, 180, 144, 174, 96, 169, 151, 464, 91, 1186, 208, 164, 1517, 331, 180, 1356, 92, 389, 335, 634, 447, 382, 345, 946, 548, 423, 391, 560, 263, 2674, 253, 858, 119, 626, 1013, 76, 323, 642, 208, 746, 708, 277, 364, 256, 464, 554, 554, 1927, 677, 557, 509, 746, 144, 526, 171, 87, 882, 836, 1186, 895, 400, 51, 1356, 634, 2835, 2026, 11343, 1396, 447, 11454, 345, 140, 946, 391, 690, 560, 2674, 647, 436, 253, 1906, 858, 800, 626, 1013, 208, 746, 206, 286, 3186, 3028, 256, 1393, 887, 1927, 677, 557, 509, 249, 144, 115, 863, 2029, 83, 382, 882, 190, 1186, 899, 2045, 1076, 1388, 1702, 53, 557, 667, 272, 2167, 950, 11343, 447, 383, 11454, 140, 165, 139, 293, 5337, 391, 474, 1139, 367, 559, 613, 436, 1906, 858, 800, 142, 408, 17, 1013, 2311, 208, 746, 1851, 356, 3028, 256, 1398, 7445, 1393, 279, 107, 144, 106, 390, 422, 1049, 899, 865, 1184, 2907, 288, 667, 261, 2167, 1768, 1039, 218, 11454, 477, 1500, 139, 1001, 391, 78, 874, 367, 559, 37, 849, 744, 138, 443, 436, 1754, 858, 76, 1013, 208, 2147, 264, 1851, 323, 934, 356, 3028, 3028, 7445, 1393, 1010, 144, 390, 890, 1049, 258, 1186, 1186, 557, 865, 234, 354, 242, 2907, 1273, 428, 152, 444, 604, 160, 154, 436, 170, 324, 1039, 561, 4194, 3074, 213, 1500, 56, 391, 418, 367, 559, 744, 443, 436, 246, 858, 561, 1013, 1022, 283, 323, 934, 356, 1398, 14300, 2264, 2367, 1971, 137, 390, 600, 370, 890, 1049, 112, 865, 1040, 1907, 231, 367, 604, 223, 829, 285, 436, 204, 857, 262, 1039, 561, 117, 392, 4794, 201, 538, 1863, 1500, 391, 356, 559, 1064, 443, 310, 436, 210, 858, 1013, 1022, 283, 110, 1398, 14300, 209, 2264, 157, 1971, 112, 390, 600, 176, 890, 1049, 275, 551, 865, 859, 1285, 1181, 1907, 562, 286, 436, 95, 1039, 561, 353, 62, 1863, 1500, 665, 671, 559, 301, 611, 1064, 373, 63, 436, 183, 2646, 679, 858, 190, 1802, 1013, 1022, 283, 1398, 233, 209, 4121, 1031, 2264, 391, 1577, 2119, 329, 390, 600, 176, 793, 890, 348, 439, 865, 859, 1138, 358, 515, 2445, 860, 436, 101, 144, 109, 1723, 857, 725, 2188, 1039, 561, 1783, 353, 151, 1500, 887, 100, 237, 905, 2570, 394, 1064, 436, 649, 679, 858, 1802, 312, 921, 156, 1022, 1828, 1398, 397, 1031, 235, 360, 846, 391, 1426, 2119, 390, 176, 1207, 533, 859, 306, 2445, 286, 649, 636, 144, 252, 181, 1723, 561, 612, 1783, 811, 353, 219, 155, 738, 389, 665, 887, 282, 213, 314, 436, 649, 679, 312, 921, 187, 1022, 494, 1828, 1398, 1360, 2264, 219, 2753, 2119, 693, 541, 390, 176, 1207, 1049, 119, 244, 326, 3513, 188, 859, 2422, 5343, 2928, 4750, 779, 2935, 1532, 602, 820, 3663, 1173, 1108, 3133, 1463, 1066, 1196, 1148, 1196, 1023, 2546, 5336, 957, 487, 3173, 643, 2792, 705, 807, 1569, 2677, 2420, 2498, 2624, 1088, 1785, 3749, 773, 4547, 6872, 10254, 1592, 10018, 945, 2723, 8042, 3998, 7154, 836, 8356, 3879, 3622, 590, 302, 2928, 245, 779, 1851, 57, 1532, 1220, 374, 3135, 2134, 3133, 828, 1066, 3676, 1196, 1023, 2546, 4568, 2792, 3188, 705, 807, 1348, 1014, 4264, 2420, 715, 2314, 2498, 4275, 1785, 3749, 4547, 9681, 287, 10906, 20203, 583, 4877, 2291, 578, 5125, 945, 418, 1356, 3998, 3411, 3528, 302, 2928, 779, 1851, 949, 573, 240, 3676, 1023, 2546, 4568, 121, 139, 374, 146, 2792, 98, 1055, 168, 624, 134, 3362, 4264, 482, 2420, 266, 2314, 2498, 4275, 1785, 3749, 213, 4547, 185, 10906, 4640, 1988, 2518, 20203, 583, 4877, 5125, 945, 32, 418, 2035, 5746, 1082, 8356]\n"
     ]
    }
   ],
   "source": [
    "#Calculating Positive and Negative Reviews which is not present in the dataset\n",
    "pos_r = []\n",
    "neg_r = []\n",
    "\n",
    "cnt = 0\n",
    "\n",
    "for idx,row in df.iterrows():\n",
    "    pos_r1 = 0\n",
    "    neg_r1 = 0\n",
    "    pos_r1 = math.ceil((row['User Rating']/5) * row['Reviews'])\n",
    "    neg_r1 = row['Reviews'] - pos_r1\n",
    "    #Rounding up values to consider integers\n",
    "    pos_r1 = math.ceil(pos_r1)\n",
    "    neg_r1 = math.ceil(neg_r1)\n",
    "    \n",
    "    #Converting count of negative reviews into positive integers so as to use it in the graph\n",
    "    if neg_r1 < 0 :\n",
    "        neg_r1 = neg_r1 * (-1)\n",
    "    pos_r.insert(cnt, pos_r1)\n",
    "    neg_r.insert(cnt, neg_r1)\n",
    "    cnt = cnt + 1\n",
    "\n",
    "print(pos_r)\n",
    "print(neg_r)"
   ]
  },
  {
   "cell_type": "code",
   "execution_count": 10,
   "id": "bc6f6344",
   "metadata": {},
   "outputs": [],
   "source": [
    "#Adding columns to and existing dataframe\n",
    "df['Positive_Reviews'] = pos_r\n",
    "df['Negative_Reviews'] = neg_r"
   ]
  },
  {
   "cell_type": "code",
   "execution_count": 11,
   "id": "02b61a58",
   "metadata": {},
   "outputs": [
    {
     "name": "stdout",
     "output_type": "stream",
     "text": [
      "                    Author  User Rating  Reviews  Positive_Reviews  \\\n",
      "0             Steve Harvey          4.6     5013              4612   \n",
      "1               Glenn Beck          4.6      798               735   \n",
      "2          Stephenie Meyer          4.6     9769              8988   \n",
      "3             Francis Chan          4.7     1542              1450   \n",
      "4         Charlaine Harris          4.6     1541              1418   \n",
      "..                     ...          ...      ...               ...   \n",
      "695  Emily Winfield Martin          4.9    20920             20502   \n",
      "696         Colleen Hoover          4.7    33929             31894   \n",
      "697         Colleen Hoover          4.6    71826             66080   \n",
      "698          Heidi Murkoff          4.8    27052             25970   \n",
      "699            Delia Owens          4.8   208917            200561   \n",
      "\n",
      "     Negative_Reviews  \n",
      "0                 401  \n",
      "1                  63  \n",
      "2                 781  \n",
      "3                  92  \n",
      "4                 123  \n",
      "..                ...  \n",
      "695               418  \n",
      "696              2035  \n",
      "697              5746  \n",
      "698              1082  \n",
      "699              8356  \n",
      "\n",
      "[700 rows x 5 columns]\n"
     ]
    }
   ],
   "source": [
    "# Added 2 columns for Review (positive and Negative) at the end of the dataframe and displaying selected columns only\n",
    "print(df[['Author','User Rating','Reviews','Positive_Reviews','Negative_Reviews']])"
   ]
  },
  {
   "cell_type": "code",
   "execution_count": 12,
   "id": "692e7a7e",
   "metadata": {
    "scrolled": true
   },
   "outputs": [
    {
     "name": "stdout",
     "output_type": "stream",
     "text": [
      "                                                  Name              Author  \\\n",
      "153                                Fifty Shades Darker           E L James   \n",
      "154  Fifty Shades Freed: Book Three of the Fifty Sh...           E L James   \n",
      "155  Fifty Shades of Grey: Book One of the Fifty Sh...           E L James   \n",
      "156  Fifty Shades Trilogy (Fifty Shades of Grey / F...           E L James   \n",
      "208  Fifty Shades of Grey: Book One of the Fifty Sh...           E L James   \n",
      "317  Grey: Fifty Shades of Grey as Told by Christia...           E L James   \n",
      "178                                 The Casual Vacancy        J.K. Rowling   \n",
      "361  Fantastic Beasts and Where to Find Them: The O...        J.K. Rowling   \n",
      "365  Harry Potter and the Chamber of Secrets: The I...        J.K. Rowling   \n",
      "366  Harry Potter and the Cursed Child, Parts 1 & 2...        J.K. Rowling   \n",
      "367  Harry Potter and the Sorcerer's Stone: The Ill...        J.K. Rowling   \n",
      "368         Harry Potter Paperback Box Set (Books 1-7)        J.K. Rowling   \n",
      "410  Harry Potter and the Prisoner of Azkaban: The ...        J.K. Rowling   \n",
      "515  Harry Potter and the Goblet of Fire: The Illus...        J.K. Rowling   \n",
      "14   Good to Great: Why Some Companies Make the Lea...         Jim Collins   \n",
      "64   Good to Great: Why Some Companies Make the Lea...         Jim Collins   \n",
      "111  Good to Great: Why Some Companies Make the Lea...         Jim Collins   \n",
      "159  Good to Great: Why Some Companies Make the Lea...         Jim Collins   \n",
      "2            Breaking Dawn (The Twilight Saga, Book 4)     Stephenie Meyer   \n",
      "10                            Eclipse (Twilight Sagas)     Stephenie Meyer   \n",
      "11                                  Eclipse (Twilight)     Stephenie Meyer   \n",
      "19                        New Moon (The Twilight Saga)     Stephenie Meyer   \n",
      "43                        The Twilight Saga Collection     Stephenie Meyer   \n",
      "46                Twilight (The Twilight Saga, Book 1)     Stephenie Meyer   \n",
      "94   The Short Second Life of Bree Tanner: An Eclip...     Stephenie Meyer   \n",
      "573                                       Midnight Sun     Stephenie Meyer   \n",
      "109  Game of Thrones Boxed Set: A Game of Thrones/A...  George R.R. Martin   \n",
      "157  Game of Thrones Boxed Set: A Game of Thrones/A...  George R.R. Martin   \n",
      "209  Game of Thrones Boxed Set: A Game of Thrones/A...  George R.R. Martin   \n",
      "\n",
      "     User Rating  Reviews  Price  Year        Genre  Positive_Reviews  \\\n",
      "153          4.4    23631      7  2012      Fiction             20796   \n",
      "154          4.5    20262     11  2012      Fiction             18236   \n",
      "155          3.8    47265     14  2012      Fiction             35922   \n",
      "156          4.5    13964     32  2012      Fiction             12568   \n",
      "208          3.8    47265     14  2013      Fiction             35922   \n",
      "317          4.4    25624     14  2015      Fiction             22550   \n",
      "178          3.3     9372     12  2012      Fiction              6186   \n",
      "361          4.7     4370     15  2016      Fiction              4108   \n",
      "365          4.9    19622     30  2016      Fiction             19230   \n",
      "366          4.0    23973     12  2016      Fiction             19179   \n",
      "367          4.9    10052     22  2016      Fiction              9851   \n",
      "368          4.8    13471     52  2016      Fiction             12933   \n",
      "410          4.9     3146     30  2017      Fiction              3084   \n",
      "515          4.9     7758     18  2019      Fiction              7603   \n",
      "14           4.5     3457     14  2009  Non Fiction              3112   \n",
      "64           4.5     3457     14  2010  Non Fiction              3112   \n",
      "111          4.5     3457     14  2011  Non Fiction              3112   \n",
      "159          4.5     3457     14  2012  Non Fiction              3112   \n",
      "2            4.6     9769     13  2009      Fiction              8988   \n",
      "10           4.7     5505      7  2009      Fiction              5175   \n",
      "11           4.7     5505     18  2009      Fiction              5175   \n",
      "19           4.6     5680     10  2009      Fiction              5226   \n",
      "43           4.7     3801     82  2009      Fiction              3573   \n",
      "46           4.7    11676      9  2009      Fiction             10976   \n",
      "94           4.6     2122      0  2010      Fiction              1953   \n",
      "573          4.8    79334     14  2020      Fiction             76161   \n",
      "109          4.6     5594      5  2011      Fiction              5147   \n",
      "157          4.6     5594      5  2012      Fiction              5147   \n",
      "209          4.6     5594      5  2013      Fiction              5147   \n",
      "\n",
      "     Negative_Reviews  \n",
      "153              2835  \n",
      "154              2026  \n",
      "155             11343  \n",
      "156              1396  \n",
      "208             11343  \n",
      "317              3074  \n",
      "178              3186  \n",
      "361               262  \n",
      "365               392  \n",
      "366              4794  \n",
      "367               201  \n",
      "368               538  \n",
      "410                62  \n",
      "515               155  \n",
      "14                345  \n",
      "64                345  \n",
      "111               345  \n",
      "159               345  \n",
      "2                 781  \n",
      "10                330  \n",
      "11                330  \n",
      "19                454  \n",
      "43                228  \n",
      "46                700  \n",
      "94                169  \n",
      "573              3173  \n",
      "109               447  \n",
      "157               447  \n",
      "209               447  \n"
     ]
    }
   ],
   "source": [
    "#Filtering df based on random Author names\n",
    "df_1 = df[df['Author'] == 'E L James'] \n",
    "df_2 = df[df['Author'] == 'J.K. Rowling'] \n",
    "df_3 = df[df['Author'] == 'Jim Collins'] \n",
    "df_4 = df[df['Author'] == 'Stephenie Meyer'] \n",
    "df_5 = df[df['Author'] == 'George R.R. Martin'] \n",
    "\n",
    "#Merging above dataframes into one\n",
    "frames = [df_1, df_2, df_3, df_4, df_5]\n",
    "author_df = pd.concat(frames)\n",
    "print(author_df)"
   ]
  },
  {
   "cell_type": "code",
   "execution_count": 13,
   "id": "85031ec5",
   "metadata": {},
   "outputs": [
    {
     "data": {
      "image/png": "[encoded data removed]",
      "text/plain": [
       "<Figure size 1080x504 with 1 Axes>"
      ]
     },
     "metadata": {
      "needs_background": "light"
     },
     "output_type": "display_data"
    }
   ],
   "source": [
    "#Filtered to take 2012 records\n",
    "author_df1 = author_df[author_df['Year'] == 2012]\n",
    "\n",
    "# Generate multiple line plots\n",
    "x = author_df1['Author'].tolist()\n",
    "y = author_df1['Reviews'].tolist()\n",
    "z = author_df1['Positive_Reviews'].tolist()\n",
    "v = author_df1['Negative_Reviews'].tolist()\n",
    "\n",
    "fig = plt.figure(figsize=(15, 7))\n",
    "plt.plot( x, z, color='olive', marker='.', markerfacecolor='black', linestyle=\"--\", markersize=12, linewidth=4)\n",
    "plt.plot( x, v, color='red', marker='.', markerfacecolor='black', linestyle=\"-\", markersize=12, linewidth=2)\n",
    "\n",
    "plt.xlabel(\"Author\")\n",
    "plt.ylabel(\"Reviews Count\")\n",
    "plt.title(\"Positve & Negative Reviews for Selected Authors\")\n",
    "\n",
    "# show legend\n",
    "plt.legend([\"Positive Review\", \"Negative Review\"])\n",
    "\n",
    "# show graph\n",
    "plt.show()\n",
    "\n",
    "#print(author_df1)"
   ]
  },
  {
   "cell_type": "code",
   "execution_count": 14,
   "id": "59c3d199",
   "metadata": {},
   "outputs": [
    {
     "data": {
      "text/plain": [
       "<matplotlib.legend.Legend at 0x1f89e7fc790>"
      ]
     },
     "execution_count": 14,
     "metadata": {},
     "output_type": "execute_result"
    },
    {
     "data": {
      "image/png": "[encoded data removed]",
      "text/plain": [
       "<Figure size 720x576 with 1 Axes>"
      ]
     },
     "metadata": {
      "needs_background": "light"
     },
     "output_type": "display_data"
    }
   ],
   "source": [
    "#Generate scatter plot yearwise for Reviews\n",
    "\n",
    "author_df1 = author_df[author_df['Year'] == 2009]\n",
    "x = author_df1['Positive_Reviews'].tolist()\n",
    "y = author_df1['Negative_Reviews'].tolist()\n",
    "fig = plt.figure(figsize=(10, 8))\n",
    "plt.scatter(x, y, color = 'g')\n",
    "\n",
    "author_df1 = author_df[author_df['Year'] == 2010]\n",
    "x = author_df1['Positive_Reviews'].tolist()\n",
    "y = author_df1['Negative_Reviews'].tolist()\n",
    "plt.scatter(x, y, color = 'b')\n",
    "\n",
    "author_df1 = author_df[author_df['Year'] == 2011]\n",
    "x = author_df1['Positive_Reviews'].tolist()\n",
    "y = author_df1['Negative_Reviews'].tolist()\n",
    "plt.scatter(x, y, color = 'r')\n",
    "\n",
    "author_df1 = author_df[author_df['Year'] == 2012]\n",
    "x = author_df1['Positive_Reviews'].tolist()\n",
    "y = author_df1['Negative_Reviews'].tolist()\n",
    "plt.scatter(x, y, color = 'c')\n",
    "\n",
    "author_df1 = author_df[author_df['Year'] == 2013]\n",
    "x = author_df1['Positive_Reviews'].tolist()\n",
    "y = author_df1['Negative_Reviews'].tolist()\n",
    "plt.scatter(x, y, color = 'm')\n",
    "\n",
    "author_df1 = author_df[author_df['Year'] == 2014]\n",
    "x = author_df1['Positive_Reviews'].tolist()\n",
    "y = author_df1['Negative_Reviews'].tolist()\n",
    "plt.scatter(x, y, color = 'y')\n",
    "\n",
    "author_df1 = author_df[author_df['Year'] == 2015]\n",
    "x = author_df1['Positive_Reviews'].tolist()\n",
    "y = author_df1['Negative_Reviews'].tolist()\n",
    "plt.scatter(x, y, color = 'orange')\n",
    "\n",
    "author_df1 = author_df[author_df['Year'] == 2016]\n",
    "x = author_df1['Positive_Reviews'].tolist()\n",
    "y = author_df1['Negative_Reviews'].tolist()\n",
    "plt.scatter(x, y, color = 'purple')\n",
    "\n",
    "author_df1 = author_df[author_df['Year'] == 2017]\n",
    "x = author_df1['Positive_Reviews'].tolist()\n",
    "y = author_df1['Negative_Reviews'].tolist()\n",
    "plt.scatter(x, y, color = 'brown')\n",
    "\n",
    "author_df1 = author_df[author_df['Year'] == 2018]\n",
    "x = author_df1['Positive_Reviews'].tolist()\n",
    "y = author_df1['Negative_Reviews'].tolist()\n",
    "plt.scatter(x, y, color = 'grey')\n",
    "\n",
    "author_df1 = author_df[author_df['Year'] == 2019]\n",
    "x = author_df1['Positive_Reviews'].tolist()\n",
    "y = author_df1['Negative_Reviews'].tolist()\n",
    "plt.scatter(x, y, color = 'maroon')\n",
    "\n",
    "author_df1 = author_df[author_df['Year'] == 2020]\n",
    "x = author_df1['Positive_Reviews'].tolist()\n",
    "y = author_df1['Negative_Reviews'].tolist()\n",
    "plt.scatter(x, y, color = 'mistyrose')\n",
    "\n",
    "author_df1 = author_df[author_df['Year'] == 2021]\n",
    "x = author_df1['Positive_Reviews'].tolist()\n",
    "y = author_df1['Negative_Reviews'].tolist()\n",
    "plt.scatter(x, y, color = 'coral')\n",
    "\n",
    "author_df1 = author_df[author_df['Year'] == 2022]\n",
    "x = author_df1['Positive_Reviews'].tolist()\n",
    "y = author_df1['Negative_Reviews'].tolist()\n",
    "plt.scatter(x, y, color = 'k')\n",
    "\n",
    "\n",
    "plt.xlabel(\"Positive Reviews\")\n",
    "plt.ylabel(\"Negative Reviews\")\n",
    "plt.title(\"Positve & Negative Reviews for Selected Authors\")\n",
    "\n",
    "# produce a legend with the unique colors from the scatter\n",
    "plt.legend([\"2009\",\"2010\",\"2011\",\"2012\",\"2013\",\"2014\",\"2015\",\"2016\",\"2017\",\"2018\",\"2019\",\"2020\",\"2021\",\"2022\"],loc='upper right')\n",
    "\n"
   ]
  },
  {
   "cell_type": "code",
   "execution_count": null,
   "id": "b2621ab2",
   "metadata": {},
   "outputs": [],
   "source": []
  }
 ],
 "metadata": {
  "kernelspec": {
   "display_name": "Python 3 (ipykernel)",
   "language": "python",
   "name": "python3"
  },
  "language_info": {
   "codemirror_mode": {
    "name": "ipython",
    "version": 3
   },
   "file_extension": ".py",
   "mimetype": "text/x-python",
   "name": "python",
   "nbconvert_exporter": "python",
   "pygments_lexer": "ipython3",
   "version": "3.9.7"
  }
 },
 "nbformat": 4,
 "nbformat_minor": 5
}
