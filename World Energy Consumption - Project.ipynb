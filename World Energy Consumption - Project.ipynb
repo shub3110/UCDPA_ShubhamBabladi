{
 "cells": [
  {
   "cell_type": "markdown",
   "id": "eebcd4d4",
   "metadata": {},
   "source": [
    "Insights about World Energy Consumptions"
   ]
  },
  {
   "cell_type": "code",
   "execution_count": null,
   "id": "ab14a0df",
   "metadata": {},
   "outputs": [],
   "source": [
    "#Importing packages\n",
    "import pandas as pd\n",
    "import matplotlib.pyplot as plt\n",
    "import seaborn as sns\n",
    "import datetime "
   ]
  },
  {
   "cell_type": "code",
   "execution_count": null,
   "id": "73db309e",
   "metadata": {},
   "outputs": [],
   "source": [
    "# Read data from a CSV file and load it into dataframe\n",
    "df = pd.read_csv"
   ]
  }
 ],
 "metadata": {
  "kernelspec": {
   "display_name": "Python 3 (ipykernel)",
   "language": "python",
   "name": "python3"
  },
  "language_info": {
   "codemirror_mode": {
    "name": "ipython",
    "version": 3
   },
   "file_extension": ".py",
   "mimetype": "text/x-python",
   "name": "python",
   "nbconvert_exporter": "python",
   "pygments_lexer": "ipython3",
   "version": "3.9.7"
  }
 },
 "nbformat": 4,
 "nbformat_minor": 5
}
